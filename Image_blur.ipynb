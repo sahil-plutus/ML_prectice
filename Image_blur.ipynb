{
 "cells": [
  {
   "cell_type": "code",
   "execution_count": 1,
   "id": "e96cdda1",
   "metadata": {},
   "outputs": [],
   "source": [
    "import cv2\n"
   ]
  },
  {
   "cell_type": "code",
   "execution_count": 2,
   "id": "b4cb7d46",
   "metadata": {},
   "outputs": [],
   "source": [
    "img = cv2.imread('/home/sahilm-plutus/Desktop/testing_images/cats.jpeg')\n",
    "imgBlur = cv2.GaussianBlur(img, (7, 7), 0)"
   ]
  },
  {
   "cell_type": "code",
   "execution_count": 3,
   "id": "ef147fca",
   "metadata": {},
   "outputs": [],
   "source": [
    "cv2.imshow(\"Image\", imgBlur)"
   ]
  },
  {
   "cell_type": "code",
   "execution_count": 4,
   "id": "cd553bd9",
   "metadata": {},
   "outputs": [],
   "source": [
    "cv2.waitKey(0)\n",
    "cv2.destroyAllWindows()"
   ]
  },
  {
   "cell_type": "code",
   "execution_count": null,
   "id": "3df41a87",
   "metadata": {},
   "outputs": [],
   "source": []
  },
  {
   "cell_type": "code",
   "execution_count": null,
   "id": "a7945398",
   "metadata": {},
   "outputs": [],
   "source": []
  }
 ],
 "metadata": {
  "kernelspec": {
   "display_name": "Python 3 (ipykernel)",
   "language": "python",
   "name": "python3"
  },
  "language_info": {
   "codemirror_mode": {
    "name": "ipython",
    "version": 3
   },
   "file_extension": ".py",
   "mimetype": "text/x-python",
   "name": "python",
   "nbconvert_exporter": "python",
   "pygments_lexer": "ipython3",
   "version": "3.8.10"
  }
 },
 "nbformat": 4,
 "nbformat_minor": 5
}
