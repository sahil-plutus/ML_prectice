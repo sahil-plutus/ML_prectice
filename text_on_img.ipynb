{
 "cells": [
  {
   "cell_type": "code",
   "execution_count": 1,
   "id": "7b842942-10b3-499f-8f25-12469511f5c9",
   "metadata": {},
   "outputs": [],
   "source": [
    "import cv2\n",
    "import numpy as np\n",
    "import os"
   ]
  },
  {
   "cell_type": "code",
   "execution_count": 2,
   "id": "7f9c2a00-e40e-460d-9f87-1048ffbeed21",
   "metadata": {},
   "outputs": [],
   "source": [
    "# rand_array = np.random.randint(255, size = (300, 600, 3))"
   ]
  },
  {
   "cell_type": "code",
   "execution_count": 3,
   "id": "34df97bc-84ff-4630-b459-3a81eb070aad",
   "metadata": {},
   "outputs": [],
   "source": [
    "# cv2.imwrite(\"random_image.png\", rand_array)"
   ]
  },
  {
   "cell_type": "code",
   "execution_count": 4,
   "id": "ecca8352-7c96-41a5-9340-408f6d81b3c1",
   "metadata": {},
   "outputs": [],
   "source": [
    "img = cv2.imread(\"/home/sahilm-plutus/Desktop/testing_images/3cats.jpeg\")\n",
    "\n",
    "img = cv2.resize(img, (900, 700))\n",
    "\n",
    "text = \"this is a cats\"\n",
    "org = (50,80)\n",
    "font = cv2.FONT_HERSHEY_COMPLEX_SMALL\n",
    "fontScale = 2\n",
    "\n",
    "color = (0,0,255)\n",
    "\n",
    "thikness = 3\n",
    "lineType = cv2.LINE_AA\n",
    "\n",
    "bottomLeftOrigin = False\n",
    "\n",
    "img_text = cv2.putText(img, text, org, font, fontScale, color, thikness, lineType, bottomLeftOrigin)\n",
    "\n",
    "# img_text = cv2.resize(img_text, (800, 600))\n",
    "\n",
    "cv2.imshow('image', img_text)\n",
    "cv2.waitKey(0)\n",
    "cv2.destroyAllWindows()\n"
   ]
  },
  {
   "cell_type": "code",
   "execution_count": null,
   "id": "bb063de5-e78b-4d36-8a28-4065cc678ff6",
   "metadata": {},
   "outputs": [],
   "source": []
  },
  {
   "cell_type": "code",
   "execution_count": null,
   "id": "166e9055-6833-4666-8786-222f0a549083",
   "metadata": {},
   "outputs": [],
   "source": []
  },
  {
   "cell_type": "code",
   "execution_count": null,
   "id": "f8d575e7-aeb5-492d-b584-5851843900af",
   "metadata": {},
   "outputs": [],
   "source": []
  },
  {
   "cell_type": "code",
   "execution_count": null,
   "id": "857f01e9-49b2-4a53-9a4c-5585abfc43b8",
   "metadata": {},
   "outputs": [],
   "source": []
  },
  {
   "cell_type": "code",
   "execution_count": null,
   "id": "2c0df00c-b79f-43b0-8ae6-effd5c555553",
   "metadata": {},
   "outputs": [],
   "source": []
  }
 ],
 "metadata": {
  "kernelspec": {
   "display_name": "Python 3 (ipykernel)",
   "language": "python",
   "name": "python3"
  },
  "language_info": {
   "codemirror_mode": {
    "name": "ipython",
    "version": 3
   },
   "file_extension": ".py",
   "mimetype": "text/x-python",
   "name": "python",
   "nbconvert_exporter": "python",
   "pygments_lexer": "ipython3",
   "version": "3.8.10"
  }
 },
 "nbformat": 4,
 "nbformat_minor": 5
}
